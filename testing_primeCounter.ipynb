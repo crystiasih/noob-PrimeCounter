{
 "cells": [
  {
   "cell_type": "code",
   "execution_count": 7,
   "id": "1312ec95-9006-43ab-be1a-c016e3df24af",
   "metadata": {},
   "outputs": [],
   "source": [
    "import prime_counter\n",
    "import inspect\n"
   ]
  },
  {
   "cell_type": "code",
   "execution_count": 9,
   "id": "605b975f-7f48-40ed-8014-c08e222b2bd3",
   "metadata": {},
   "outputs": [
    {
     "name": "stdout",
     "output_type": "stream",
     "text": [
      "count_primes\n",
      "is_prime\n"
     ]
    }
   ],
   "source": [
    "functions_in_prime_counter = inspect.getmembers(prime_counter, inspect.isfunction)\n",
    "for func in functions_in_prime_counter:\n",
    "    print(func[0])\n",
    "    "
   ]
  }
 ],
 "metadata": {
  "kernelspec": {
   "display_name": "Python 3 (ipykernel)",
   "language": "python",
   "name": "python3"
  },
  "language_info": {
   "codemirror_mode": {
    "name": "ipython",
    "version": 3
   },
   "file_extension": ".py",
   "mimetype": "text/x-python",
   "name": "python",
   "nbconvert_exporter": "python",
   "pygments_lexer": "ipython3",
   "version": "3.11.7"
  }
 },
 "nbformat": 4,
 "nbformat_minor": 5
}
